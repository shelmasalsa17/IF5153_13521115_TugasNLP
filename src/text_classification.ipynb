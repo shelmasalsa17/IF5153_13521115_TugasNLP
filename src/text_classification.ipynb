{
 "cells": [
  {
   "cell_type": "code",
   "execution_count": 101,
   "id": "9a49893e",
   "metadata": {},
   "outputs": [],
   "source": [
    "# import module \n",
    "import pandas as pd\n",
    "import numpy as np\n",
    "import re\n",
    "import nltk\n",
    "from nltk.tokenize import word_tokenize\n",
    "from Sastrawi.Stemmer.StemmerFactory import StemmerFactory\n",
    "import string\n",
    "import sklearn\n",
    "from sklearn.feature_extraction.text import CountVectorizer, TfidfVectorizer\n",
    "from sklearn import svm\n",
    "from sklearn.model_selection import cross_val_score\n",
    "from sklearn.tree import DecisionTreeClassifier\n",
    "from sklearn.naive_bayes import GaussianNB\n",
    "from sklearn.linear_model import LogisticRegression\n",
    "from sklearn.metrics import accuracy_score, precision_score, recall_score, f1_score\n",
    "from sklearn.model_selection import GridSearchCV\n",
    "from sklearn.pipeline import Pipeline\n",
    "from sklearn.preprocessing import StandardScaler\n",
    "from sklearn.inspection import permutation_importance\n",
    "from sklearn.model_selection import learning_curve\n",
    "import matplotlib.pyplot as plt\n",
    "from sklearn.metrics import confusion_matrix, classification_report\n",
    "import seaborn as sns"
   ]
  },
  {
   "cell_type": "code",
   "execution_count": 41,
   "id": "419a5b25",
   "metadata": {},
   "outputs": [],
   "source": [
    "# Read Data \n",
    "data_train = pd.read_csv(\"../data/train_preprocess.tsv\", sep=\"\\t\", header=None)\n",
    "data_valid = pd.read_csv(\"../data/valid_preprocess.tsv\", sep=\"\\t\", header=None)\n",
    "data_test = pd.read_csv(\"../data/test_preprocess.tsv\", sep=\"\\t\", header=None)"
   ]
  },
  {
   "cell_type": "code",
   "execution_count": 42,
   "id": "30df5b00",
   "metadata": {
    "scrolled": true
   },
   "outputs": [
    {
     "name": "stdout",
     "output_type": "stream",
     "text": [
      "Banyaknya data data train: 11000\n",
      "Contoh 5 field dari data train: \n",
      "                                                   0         1\n",
      "0  warung ini dimiliki oleh pengusaha pabrik tahu...  positive\n",
      "1  mohon ulama lurus dan k212 mmbri hujjah partai...   neutral\n",
      "2  lokasi strategis di jalan sumatera bandung . t...  positive\n",
      "3  betapa bahagia nya diri ini saat unboxing pake...  positive\n",
      "4  duh . jadi mahasiswa jangan sombong dong . kas...  negative\n",
      "Distribusi frekuensi label data train\n",
      "1\n",
      "positive    6416\n",
      "negative    3436\n",
      "neutral     1148\n",
      "Name: count, dtype: int64\n",
      "\n",
      "\n",
      "Banyaknya data data validation: 1260\n",
      "Contoh 5 field dari data validation: \n",
      "                                                   0         1\n",
      "0  meski masa kampanye sudah selesai , bukan bera...   neutral\n",
      "1                                         tidak enak  negative\n",
      "2  restoran ini menawarkan makanan sunda . kami m...  positive\n",
      "3  lokasi di alun alun masakan padang ini cukup t...  positive\n",
      "4  betapa bejad kader gerindra yang anggota dprd ...  negative\n",
      "Distribusi frekuensi label data validation\n",
      "1\n",
      "positive    735\n",
      "negative    394\n",
      "neutral     131\n",
      "Name: count, dtype: int64\n",
      "\n",
      "\n",
      "Banyaknya data data test: 500\n",
      "Contoh 5 field dari data test: \n",
      "                                                   0         1\n",
      "0  kemarin gue datang ke tempat makan baru yang a...  negative\n",
      "1  kayak nya sih gue tidak akan mau balik lagi ke...  negative\n",
      "2  kalau dipikir-pikir , sebenarnya tidak ada yan...  negative\n",
      "3  ini pertama kalinya gua ke bank buat ngurusin ...  negative\n",
      "4  waktu sampai dengan gue pernah disuruh ibu lat...  negative\n",
      "Distribusi frekuensi label data test\n",
      "1\n",
      "positive    208\n",
      "negative    204\n",
      "neutral      88\n",
      "Name: count, dtype: int64\n",
      "\n",
      "\n"
     ]
    }
   ],
   "source": [
    "# Analisis size data \n",
    "def analisisData(dataset, typeOfDataset):\n",
    "    print(f\"Banyaknya data {typeOfDataset}: {dataset.shape[0]}\")\n",
    "    print(f\"Contoh 5 field dari {typeOfDataset}: \")\n",
    "    print(dataset.head())\n",
    "    print(f\"Distribusi frekuensi label {typeOfDataset}\")\n",
    "    print(dataset[1].value_counts())\n",
    "\n",
    "analisisData(data_train, \"data train\")\n",
    "print(\"\\n\")\n",
    "analisisData(data_valid, \"data validation\")\n",
    "print(\"\\n\")\n",
    "analisisData(data_test, \"data test\")\n",
    "print(\"\\n\")"
   ]
  },
  {
   "cell_type": "code",
   "execution_count": 43,
   "id": "9d2c6d1c",
   "metadata": {},
   "outputs": [
    {
     "name": "stdout",
     "output_type": "stream",
     "text": [
      "                                                       0\n",
      "0      warung ini dimiliki oleh pengusaha pabrik tahu...\n",
      "1      mohon ulama lurus dan k212 mmbri hujjah partai...\n",
      "2      lokasi strategis di jalan sumatera bandung . t...\n",
      "3      betapa bahagia nya diri ini saat unboxing pake...\n",
      "4      duh . jadi mahasiswa jangan sombong dong . kas...\n",
      "...                                                  ...\n",
      "10995                                       tidak kecewa\n",
      "10996  enak rasa masakan nya apalagi kepiting yang me...\n",
      "10997        hormati partai-partai yang telah berkoalisi\n",
      "10998  pagi pagi di tol pasteur sudah macet parah , b...\n",
      "10999  meskipun sering belanja ke yogya di riau junct...\n",
      "\n",
      "[11000 rows x 1 columns]\n"
     ]
    }
   ],
   "source": [
    "# Dekomposisi dataset menjadi nilai X dan Y\n",
    "def dekomposisi(dataset):\n",
    "    return dataset.drop(columns=[dataset.columns[1]]), dataset[[dataset.columns[1]]]\n",
    "\n",
    "X_train, Y_train = dekomposisi(data_train)\n",
    "X_test, Y_test = dekomposisi(data_test)\n",
    "X_valid, Y_valid = dekomposisi(data_valid)\n",
    "print(X_train)"
   ]
  },
  {
   "cell_type": "code",
   "execution_count": 44,
   "id": "f21701aa",
   "metadata": {},
   "outputs": [],
   "source": [
    "# Preprocessing \n",
    "# 1. Lowercase, membuat seluruh data train dan validation menjadi lowercase\n",
    "def lowerCase(df):\n",
    "    return df.apply(lambda x: x.str.lower() if x.dtype == 'object' else x)\n",
    "\n",
    "X_train = lowerCase(X_train)\n",
    "Y_train = lowerCase(Y_train)\n",
    "X_test = lowerCase(X_test)\n",
    "Y_test = lowerCase(Y_test)\n",
    "X_valid = lowerCase(X_valid)\n",
    "Y_valid = lowerCase(Y_valid)"
   ]
  },
  {
   "cell_type": "code",
   "execution_count": 45,
   "id": "f391561d",
   "metadata": {},
   "outputs": [],
   "source": [
    "# Preprocessing\n",
    "# 2. Masked Data, melakukan masked terhadap data-data seperti nomor telepon, email, dan angka\n",
    "def masked_all_important(text):\n",
    "    email_regex = r'\\b[A-Za-z0-9._%+-]+@[A-Za-z0-9.-]+\\.[A-Z|a-z]{2,}\\b'\n",
    "    masked_text = re.sub(email_regex, '_email_', text)\n",
    "    phone_regex = r'\\b\\d{3}-\\d{3}-\\d{4}\\b'\n",
    "    masked_text = re.sub(phone_regex, '_phone_', masked_text)\n",
    "    number_regex = r'\\b\\d+\\b'  # Regex untuk mencocokkan angka\n",
    "    masked_text = re.sub(number_regex, '_number_', masked_text)\n",
    "    return masked_text\n",
    "\n",
    "X_train.iloc[:, 0] = X_train.iloc[:, 0].apply(masked_all_important)\n",
    "X_test.iloc[:, 0] = X_test.iloc[:, 0].apply(masked_all_important)\n",
    "X_valid.iloc[:, 0] = X_valid.iloc[:, 0].apply(masked_all_important)"
   ]
  },
  {
   "cell_type": "code",
   "execution_count": 46,
   "id": "b340e4f9",
   "metadata": {},
   "outputs": [
    {
     "name": "stdout",
     "output_type": "stream",
     "text": [
      "Sample 1: ['warung', 'ini', 'dimiliki', 'oleh', 'pengusaha', 'pabrik', 'tahu', 'yang', 'sudah', 'puluhan', 'tahun', 'terkenal', 'membuat', 'tahu', 'putih', 'di', 'bandung', '.', 'tahu', 'berkualitas', ',', 'dipadu', 'keahlian', 'memasak', ',', 'dipadu', 'kretivitas', ',', 'jadilah', 'warung', 'yang', 'menyajikan', 'menu', 'utama', 'berbahan', 'tahu', ',', 'ditambah', 'menu', 'umum', 'lain', 'seperti', 'ayam', '.', 'semuanya', 'selera', 'indonesia', '.', 'harga', 'cukup', 'terjangkau', '.', 'jangan', 'lewatkan', 'tahu', 'bletoka', 'nya', ',', 'tidak', 'kalah', 'dengan', 'yang', 'asli', 'dari', 'tegal', '!']\n",
      "Sample 2: ['mohon', 'ulama', 'lurus', 'dan', 'k212', 'mmbri', 'hujjah', 'partai', 'apa', 'yang', 'harus', 'diwlh', 'agar', 'suara', 'islam', 'tidak', 'pecah-pecah']\n",
      "Sample 3: ['lokasi', 'strategis', 'di', 'jalan', 'sumatera', 'bandung', '.', 'tempat', 'nya', 'nyaman', 'terutama', 'sofa', 'di', 'lantai', '_number_', '.', 'paella', 'nya', 'enak', ',', 'sangat', 'pas', 'dimakan', 'dengan', 'minum', 'bir', 'dingin', '.', 'appetiser', 'nya', 'juga', 'enak-enak', '.']\n",
      "Sample 4: ['betapa', 'bahagia', 'nya', 'diri', 'ini', 'saat', 'unboxing', 'paket', 'dan', 'barang', 'nya', 'bagus', '!', 'menetapkan', 'beli', 'lagi', '!']\n"
     ]
    }
   ],
   "source": [
    "# Preprocessing \n",
    "# 3. Tokenization, membuat train terpisah dalam bentuk token-token\n",
    "def tokenization(X_train):\n",
    "    X_train = [word_tokenize(text) for text in X_train]\n",
    "    return X_train\n",
    "\n",
    "X_train = tokenization(X_train.iloc[:, 0])  \n",
    "X_test = tokenization(X_test.iloc[:, 0])\n",
    "X_valid = tokenization(X_valid.iloc[:, 0])\n",
    "\n",
    "for i in range(4):\n",
    "    print(f\"Sample {i+1}: {X_train[i]}\")"
   ]
  },
  {
   "cell_type": "code",
   "execution_count": 47,
   "id": "8fb90b73",
   "metadata": {},
   "outputs": [
    {
     "name": "stdout",
     "output_type": "stream",
     "text": [
      "Sample 1: ['warung', 'ini', 'milik', 'oleh', 'usaha', 'pabrik', 'tahu', 'yang', 'sudah', 'puluh', 'tahun', 'kenal', 'buat', 'tahu', 'putih', 'di', 'bandung', '', 'tahu', 'kualitas', '', 'padu', 'ahli', 'masak', '', 'padu', 'kretivitas', '', 'jadi', 'warung', 'yang', 'saji', 'menu', 'utama', 'bahan', 'tahu', '', 'tambah', 'menu', 'umum', 'lain', 'seperti', 'ayam', '', 'semua', 'selera', 'indonesia', '', 'harga', 'cukup', 'jangkau', '', 'jangan', 'lewat', 'tahu', 'bletoka', 'nya', '', 'tidak', 'kalah', 'dengan', 'yang', 'asli', 'dari', 'tegal', '']\n",
      "Sample 2: ['mohon', 'ulama', 'lurus', 'dan', 'k212', 'mmbri', 'hujjah', 'partai', 'apa', 'yang', 'harus', 'diwlh', 'agar', 'suara', 'islam', 'tidak', 'pecah']\n",
      "Sample 3: ['lokasi', 'strategis', 'di', 'jalan', 'sumatera', 'bandung', '', 'tempat', 'nya', 'nyaman', 'utama', 'sofa', 'di', 'lantai', 'number', '', 'paella', 'nya', 'enak', '', 'sangat', 'pas', 'makan', 'dengan', 'minum', 'bir', 'dingin', '', 'appetiser', 'nya', 'juga', 'enak', '']\n",
      "Sample 4: ['betapa', 'bahagia', 'nya', 'diri', 'ini', 'saat', 'unboxing', 'paket', 'dan', 'barang', 'nya', 'bagus', '', 'tetap', 'beli', 'lagi', '']\n"
     ]
    }
   ],
   "source": [
    "# Preprocessing\n",
    "# 4. Stemming, menghilangkan imbuhan-imbuhan kalimat dan juga diharapkan dengan stemming dapat membantu untuk memperbaiki kalimat yang salah/typo\n",
    "def stemming(X_train):\n",
    "    factory = StemmerFactory()\n",
    "    stemmer = factory.create_stemmer()\n",
    "    stemmed_text = []\n",
    "    for sentence in X_train:\n",
    "        stemmed_words = [stemmer.stem(word) for word in sentence]\n",
    "        stemmed_text.append(stemmed_words)\n",
    "    return stemmed_text\n",
    "\n",
    "X_train = stemming(X_train)\n",
    "X_test = stemming(X_test)\n",
    "X_valid = stemming(X_valid)\n",
    "for i in range(4):\n",
    "    print(f\"Sample {i+1}: {X_train[i]}\")"
   ]
  },
  {
   "cell_type": "code",
   "execution_count": 57,
   "id": "ebbea9a4",
   "metadata": {},
   "outputs": [],
   "source": [
    "# Preprocessing \n",
    "# 5. Menghapus tanda baca. Karena khawatirnya data train jadi bias gara-gara dominannya tanda baca\n",
    "def remove_punctuation(word):\n",
    "    return word.translate(str.maketrans('', '', string.punctuation))"
   ]
  },
  {
   "cell_type": "code",
   "execution_count": 59,
   "id": "675fcc60",
   "metadata": {},
   "outputs": [],
   "source": [
    "# Preprocessing \n",
    "# 6. Penanganan Stop Word \n",
    "# Feature Extraction : Pembuatan Vector dengan bantuan TF-IDF agar kata-kata dominan yang berpengaruh pada label tidak bias oleh kata-kata yang sering digunakan\n",
    "\n",
    "# Proses join hasil token kemudian di hapus tanda bacanya\n",
    "X_train = [' '.join(remove_punctuation(word) for word in words) for words in X_train]\n",
    "X_test = [' '.join(remove_punctuation(word) for word in words) for words in X_test]\n",
    "X_valid = [' '.join(remove_punctuation(word) for word in words) for words in X_valid]\n",
    "\n",
    "# Vectorization dengan tfidf\n",
    "tfidf_vec = TfidfVectorizer(min_df=10, token_pattern=r'[a-zA-Z]+')\n",
    "X_train_tfidf = tfidf_vec.fit_transform(X_train)  # Fit pada data pelatihan\n",
    "X_test_tfidf = tfidf_vec.transform(X_test)        # Transform data uji\n",
    "X_valid_tfidf = tfidf_vec.transform(X_valid) "
   ]
  },
  {
   "cell_type": "code",
   "execution_count": 51,
   "id": "4de79e43",
   "metadata": {},
   "outputs": [
    {
     "name": "stdout",
     "output_type": "stream",
     "text": [
      "Validation Accuracy: 0.8484126984126984\n"
     ]
    }
   ],
   "source": [
    "# Classification \n",
    "# 1. Model SVM\n",
    "model_svm = svm.SVC(C=8.0, kernel='linear')\n",
    "model_svm.fit(X_train_tfidf, Y_train.values.ravel())\n",
    "\n",
    "# Evaluasi model dengan data validasi\n",
    "val_pred = model_svm.predict(X_valid_tfidf)\n",
    "val_acc = accuracy_score(Y_valid, val_pred)\n",
    "\n",
    "print(f\"Validation Accuracy: {val_acc}\")"
   ]
  },
  {
   "cell_type": "code",
   "execution_count": 52,
   "id": "c1833ca1",
   "metadata": {},
   "outputs": [
    {
     "name": "stdout",
     "output_type": "stream",
     "text": [
      "Validation Accuracy: 0.7428571428571429\n"
     ]
    }
   ],
   "source": [
    "# Classification \n",
    "# 1. Model Decision Tree\n",
    "model_dec = DecisionTreeClassifier(max_depth=10, random_state=0)\n",
    "model_dec.fit(X_train_tfidf, Y_train)\n",
    "\n",
    "# Evaluasi model dengan data validasi\n",
    "val_pred = model_dec.predict(X_valid_tfidf)\n",
    "val_acc = accuracy_score(Y_valid, val_pred)\n",
    "\n",
    "print(f\"Validation Accuracy: {val_acc}\")"
   ]
  },
  {
   "cell_type": "code",
   "execution_count": 53,
   "id": "f45c9773",
   "metadata": {},
   "outputs": [
    {
     "name": "stdout",
     "output_type": "stream",
     "text": [
      "Validation Accuracy: 0.692063492063492\n"
     ]
    }
   ],
   "source": [
    "# Classification \n",
    "# 1. Model Gaussian Naive Bayes\n",
    "model_gnb = GaussianNB()\n",
    "model_gnb.fit(X_train_tfidf.toarray(), Y_train.values.ravel())\n",
    "\n",
    "# Evaluasi model dengan data validasi\n",
    "val_pred = model_gnb.predict(X_valid_tfidf.toarray())\n",
    "val_acc = accuracy_score(Y_valid, val_pred)\n",
    "\n",
    "print(f\"Validation Accuracy: {val_acc}\")"
   ]
  },
  {
   "cell_type": "code",
   "execution_count": 54,
   "id": "0d4946da",
   "metadata": {},
   "outputs": [
    {
     "name": "stdout",
     "output_type": "stream",
     "text": [
      "Validation Accuracy: 0.8722222222222222\n"
     ]
    }
   ],
   "source": [
    "# Classification \n",
    "# 1. Model Logistic Regression\n",
    "model_lg = LogisticRegression()\n",
    "model_lg.fit(X_train_tfidf, Y_train.values.ravel())\n",
    "\n",
    "# Evaluasi model dengan data validasi\n",
    "val_pred = model_lg.predict(X_valid_tfidf)\n",
    "val_acc = accuracy_score(Y_valid, val_pred)\n",
    "\n",
    "print(f\"Validation Accuracy: {val_acc}\")"
   ]
  },
  {
   "cell_type": "code",
   "execution_count": 56,
   "id": "a46cfac7",
   "metadata": {},
   "outputs": [
    {
     "name": "stdout",
     "output_type": "stream",
     "text": [
      "SVM Model:\n",
      "Accuracy: 0.732\n",
      "Precision: 0.7363154097460536\n",
      "Recall: 0.732\n",
      "F1-Score: 0.7270009130957148\n",
      "\n",
      "Decision Tree Model:\n",
      "Accuracy: 0.506\n",
      "Precision: 0.5809379152348224\n",
      "Recall: 0.506\n",
      "F1-Score: 0.4594545619444948\n",
      "\n",
      "Gaussian Naive Bayes Model:\n",
      "Accuracy: 0.45\n",
      "Precision: 0.5617586550508236\n",
      "Recall: 0.45\n",
      "F1-Score: 0.45171843445713383\n",
      "\n",
      "Logistic Regression Model:\n",
      "Accuracy: 0.744\n",
      "Precision: 0.7637356271435054\n",
      "Recall: 0.744\n",
      "F1-Score: 0.7324233809329526\n"
     ]
    }
   ],
   "source": [
    "# Prediksi menggunakan setiap model\n",
    "svm_pred = model_svm.predict(X_test_tfidf)\n",
    "dec_pred = model_dec.predict(X_test_tfidf)\n",
    "gnb_pred = model_gnb.predict(X_test_tfidf.toarray())\n",
    "lg_pred = model_lg.predict(X_test_tfidf)\n",
    "\n",
    "# Evaluasi SVM\n",
    "print(\"SVM Model:\")\n",
    "print(f\"Accuracy: {accuracy_score(Y_test, svm_pred)}\")\n",
    "print(f\"Precision: {precision_score(Y_test, svm_pred, average='weighted')}\")\n",
    "print(f\"Recall: {recall_score(Y_test, svm_pred, average='weighted')}\")\n",
    "print(f\"F1-Score: {f1_score(Y_test, svm_pred, average='weighted')}\")\n",
    "\n",
    "# Evaluasi Decision Tree\n",
    "print(\"\\nDecision Tree Model:\")\n",
    "print(f\"Accuracy: {accuracy_score(Y_test, dec_pred)}\")\n",
    "print(f\"Precision: {precision_score(Y_test, dec_pred, average='weighted')}\")\n",
    "print(f\"Recall: {recall_score(Y_test, dec_pred, average='weighted')}\")\n",
    "print(f\"F1-Score: {f1_score(Y_test, dec_pred, average='weighted')}\")\n",
    "\n",
    "# Evaluasi Gaussian Naive Bayes\n",
    "print(\"\\nGaussian Naive Bayes Model:\")\n",
    "print(f\"Accuracy: {accuracy_score(Y_test, gnb_pred)}\")\n",
    "print(f\"Precision: {precision_score(Y_test, gnb_pred, average='weighted')}\")\n",
    "print(f\"Recall: {recall_score(Y_test, gnb_pred, average='weighted')}\")\n",
    "print(f\"F1-Score: {f1_score(Y_test, gnb_pred, average='weighted')}\")\n",
    "\n",
    "# Evaluasi Logistic Regression\n",
    "print(\"\\nLogistic Regression Model:\")\n",
    "print(f\"Accuracy: {accuracy_score(Y_test, lg_pred)}\")\n",
    "print(f\"Precision: {precision_score(Y_test, lg_pred, average='weighted')}\")\n",
    "print(f\"Recall: {recall_score(Y_test, lg_pred, average='weighted')}\")\n",
    "print(f\"F1-Score: {f1_score(Y_test, lg_pred, average='weighted')}\")"
   ]
  },
  {
   "cell_type": "code",
   "execution_count": 92,
   "id": "62895561",
   "metadata": {},
   "outputs": [
    {
     "data": {
      "image/png": "[encoded data removed]",
      "text/plain": [
       "<Figure size 800x600 with 2 Axes>"
      ]
     },
     "metadata": {},
     "output_type": "display_data"
    },
    {
     "name": "stdout",
     "output_type": "stream",
     "text": [
      "Classification Report:\n",
      "              precision    recall  f1-score   support\n",
      "\n",
      "    Negative       0.69      0.85      0.76       204\n",
      "     Neutral       0.69      0.49      0.57        88\n",
      "    Positive       0.80      0.72      0.76       208\n",
      "\n",
      "    accuracy                           0.73       500\n",
      "   macro avg       0.73      0.69      0.70       500\n",
      "weighted avg       0.74      0.73      0.73       500\n",
      "\n"
     ]
    }
   ],
   "source": [
    "# Membuat confusion matrix\n",
    "cm = confusion_matrix(Y_test, svm_pred)\n",
    "\n",
    "# Visualisasi confusion matrix\n",
    "plt.figure(figsize=(8, 6))\n",
    "sns.heatmap(cm, annot=True, fmt='d', cmap='Blues', xticklabels=['Negative', 'Neutral', 'Positive'], \n",
    "            yticklabels=['Negative', 'Neutral', 'Positive'])\n",
    "plt.xlabel('Predicted')\n",
    "plt.ylabel('Actual')\n",
    "plt.title('Confusion Matrix')\n",
    "plt.show()\n",
    "\n",
    "# Laporan klasifikasi\n",
    "print(\"Classification Report:\")\n",
    "print(classification_report(Y_test, svm_pred, target_names=['Negative', 'Neutral', 'Positive']))\n"
   ]
  },
  {
   "cell_type": "code",
   "execution_count": 106,
   "id": "62f48928",
   "metadata": {},
   "outputs": [
    {
     "name": "stdout",
     "output_type": "stream",
     "text": [
      "\n",
      "Contoh data yang salah diprediksi:\n",
      "Teks: kemarin gue datang ke tempat makan baru yang ada di dago atas . gue kira makanan nya enak karena harga nya mahal . ternyata , boro-boro . tidak mau lagi deh ke tempat itu . sudah mana tempat nya juga tidak nyaman banget , terlalu sempit .\n",
      "Asli: negative, Prediksi: positive\n",
      "--------------------------------------------------------------------------------\n",
      "Teks: kalau dipikir-pikir , sebenarnya tidak ada yang bisa dibanggakan dari jokowi . pertama , dia tidak bisa nepatin janji . kedua , kerjaan nya selalu pencitraan . ketiga , dia tidak pro rakyat . sudahlah . ku sudah terlanjur kecewa .\n",
      "Asli: negative, Prediksi: positive\n",
      "--------------------------------------------------------------------------------\n",
      "Teks: kata nya dapat promo 100 ribu . tapi setelah di bayar di atm - nya ternyata harga normal . sudah saya kirim email tapi tidak ada balasan . mengecewakan .\n",
      "Asli: negative, Prediksi: neutral\n",
      "--------------------------------------------------------------------------------\n",
      "Teks: biasanya pesan tiket pesawat lancar-lancar saja . terakhir beli tiket kereta eksekutif untuk 6 orang sudah ditransfer sebelum waktu berakhir tetapi cek order pemesanan kadaluarsa . menyebalkan !\n",
      "Asli: negative, Prediksi: neutral\n",
      "--------------------------------------------------------------------------------\n",
      "Teks: saya sebagai aktifis pecinta beruang indonesia apbi , dengan ini merasa kecewa kepada pt nestle . kenapa iklan nya sangat menipu .\n",
      "Asli: negative, Prediksi: positive\n",
      "--------------------------------------------------------------------------------\n"
     ]
    }
   ],
   "source": [
    "# Mendapatkan indeks dari prediksi yang salah\n",
    "X_test_original = data_test\n",
    "misclassified_indices = np.where(svm_pred != Y_test.values.ravel())[0]\n",
    "\n",
    "# Menampilkan beberapa sampel dari data yang salah diprediksi\n",
    "print(\"\\nContoh data yang salah diprediksi:\")\n",
    "for i in misclassified_indices[:5]:  \n",
    "    print(f\"Teks: {X_test_original.iloc[i, 0]}\")\n",
    "    print(f\"Asli: {Y_test.values[i][0]}, Prediksi: {svm_pred[i]}\")\n",
    "    print('-' * 80)"
   ]
  },
  {
   "cell_type": "code",
   "execution_count": 104,
   "id": "ec31bf7c",
   "metadata": {},
   "outputs": [
    {
     "data": {
      "image/png": "[encoded data removed]",
      "text/plain": [
       "<Figure size 800x600 with 1 Axes>"
      ]
     },
     "metadata": {},
     "output_type": "display_data"
    }
   ],
   "source": [
    "# Analisis underfitting atau overfitting saat proses training\n",
    "\n",
    "train_sizes, train_scores, test_scores = learning_curve(\n",
    "    model_svm, X_train_tfidf, Y_train.values.ravel(), cv=5, n_jobs=-1, train_sizes=np.linspace(0.1, 1.0, 10)\n",
    ")\n",
    "\n",
    "train_mean = np.mean(train_scores, axis=1)\n",
    "test_mean = np.mean(test_scores, axis=1)\n",
    "\n",
    "plt.figure(figsize=(8, 6))\n",
    "plt.plot(train_sizes, train_mean, label=\"Training score\")\n",
    "plt.plot(train_sizes, test_mean, label=\"Cross-validation score\")\n",
    "plt.xlabel('Training Size')\n",
    "plt.ylabel('Score')\n",
    "plt.title('Learning Curve')\n",
    "plt.legend(loc=\"best\")\n",
    "plt.show()\n"
   ]
  }
 ],
 "metadata": {
  "kernelspec": {
   "display_name": "Python 3 (ipykernel)",
   "language": "python",
   "name": "python3"
  },
  "language_info": {
   "codemirror_mode": {
    "name": "ipython",
    "version": 3
   },
   "file_extension": ".py",
   "mimetype": "text/x-python",
   "name": "python",
   "nbconvert_exporter": "python",
   "pygments_lexer": "ipython3",
   "version": "3.10.11"
  }
 },
 "nbformat": 4,
 "nbformat_minor": 5
}
